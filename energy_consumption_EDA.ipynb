{
 "cells": [
  {
   "cell_type": "code",
   "execution_count": 1,
   "metadata": {},
   "outputs": [],
   "source": [
    "import urllib, zipfile, os"
   ]
  },
  {
   "cell_type": "code",
   "execution_count": 2,
   "metadata": {},
   "outputs": [],
   "source": [
    "project_path = 'C:/Users/mneskovic/Desktop/project/'\n",
    "os.chdir(project_path) # just in case\n",
    "data_url = 'https://data.london.gov.uk/download/smartmeter-energy-use-data-in-london-households/3527bf39-d93e-4071-8451-df2ade1ea4f2/Power-Networks-LCL-June2015(withAcornGps).zip'\n",
    "dataset_zip = 'SmartMeter_Energy_Consumption_Data_in_London_Households.zip'\n",
    "dataset_name = 'Power-Networks-LCL-June2015(withAcornGps)v2.csv'\n",
    "dataset_path = 'data/'+dataset_name"
   ]
  },
  {
   "cell_type": "code",
   "execution_count": 3,
   "metadata": {
    "scrolled": true
   },
   "outputs": [
    {
     "name": "stdout",
     "output_type": "stream",
     "text": [
      "Data already downloaded and unpacked.\n"
     ]
    }
   ],
   "source": [
    "if os.path.exists(dataset_path):\n",
    "    print('Data already downloaded and unpacked.')\n",
    "else:\n",
    "    os.chdir(project_path+'data/')\n",
    "    urllib.request.urlretrieve(data_url, dataset_zip)\n",
    "    print('Data downloaded.')\n",
    "    with zipfile.ZipFile(dataset_zip, 'r') as z:\n",
    "        z.extractall()\n",
    "    print('Data unpacked.')\n",
    "    os.chdir(project_path)"
   ]
  },
  {
   "cell_type": "markdown",
   "metadata": {},
   "source": [
    "# Dataset description\n",
    "\n",
    "Energy consumption readings for a sample of 5,567 London Households that took part in the UK Power Networks led Low Carbon London project between November 2011 and February 2014.\n",
    "\n",
    "Readings were taken at half hourly intervals. Households have been allocated to a CACI Acorn group (2010).  The customers in the trial were recruited as a balanced sample representative of the Greater London population.\n",
    "\n",
    "The dataset contains energy consumption, in kWh (per half hour), unique household identifier, date and time, and CACI Acorn group. The CSV file is around 10GB when unzipped and contains around 167million rows.\n",
    "\n",
    "Within the data set are two groups of customers. The first is a sub-group, of approximately 1100 customers, who were subjected to Dynamic Time of Use (dToU) energy prices throughout the 2013 calendar year period.  The tariff prices were given a day ahead via the Smart Meter IHD (In Home Display) or text message to mobile phone. Customers were issued High (67.20p/kWh), Low (3.99p/kWh) or normal (11.76p/kWh) price signals and the times of day these applied. The dates/times and the price signal schedule is availaible as part of this dataset. All non-Time of Use customers were on a flat rate tariff of 14.228pence/kWh.\n",
    "\n",
    "The signals given were designed to be representative of the types of signal that may be used in the future to manage both high renewable generation (supply following) operation and also test the potential to use high price signals to reduce stress on local distribution grids during periods of stress.\n",
    "\n",
    "The remaining sample of approximately 4500 customers energy consumption readings were not subject to the dToU tariff."
   ]
  },
  {
   "cell_type": "code",
   "execution_count": 4,
   "metadata": {},
   "outputs": [],
   "source": [
    "import pandas as pd"
   ]
  },
  {
   "cell_type": "code",
   "execution_count": 5,
   "metadata": {
    "scrolled": true
   },
   "outputs": [],
   "source": [
    "headers = ['LCLid', 'stdorToU', 'DateTime', 'KWH_hh', 'Acorn', 'Acorn_grouped']\n",
    "dtypes = {'LCLid': 'str',\n",
    "          'stdorToU': 'str',\n",
    "          'DateTime': 'str',\n",
    "          'KWH_hh': 'float',\n",
    "          'Acorn': 'str',\n",
    "          'Acorn_grouped': 'str'}\n",
    "parse_dates = ['DateTime']\n",
    "\n",
    "data = pd.read_csv(dataset_path, header=None, names=headers, dtype=dtypes, parse_dates=parse_dates, \n",
    "                   skiprows=1, na_values=['Null'], keep_default_na=False)"
   ]
  },
  {
   "cell_type": "code",
   "execution_count": 6,
   "metadata": {},
   "outputs": [
    {
     "data": {
      "text/plain": [
       "(167932474, 6)"
      ]
     },
     "execution_count": 6,
     "metadata": {},
     "output_type": "execute_result"
    }
   ],
   "source": [
    "data.shape"
   ]
  },
  {
   "cell_type": "code",
   "execution_count": 7,
   "metadata": {},
   "outputs": [
    {
     "data": {
      "text/html": [
       "<div>\n",
       "<style scoped>\n",
       "    .dataframe tbody tr th:only-of-type {\n",
       "        vertical-align: middle;\n",
       "    }\n",
       "\n",
       "    .dataframe tbody tr th {\n",
       "        vertical-align: top;\n",
       "    }\n",
       "\n",
       "    .dataframe thead th {\n",
       "        text-align: right;\n",
       "    }\n",
       "</style>\n",
       "<table border=\"1\" class=\"dataframe\">\n",
       "  <thead>\n",
       "    <tr style=\"text-align: right;\">\n",
       "      <th></th>\n",
       "      <th>LCLid</th>\n",
       "      <th>stdorToU</th>\n",
       "      <th>DateTime</th>\n",
       "      <th>KWH_hh</th>\n",
       "      <th>Acorn</th>\n",
       "      <th>Acorn_grouped</th>\n",
       "    </tr>\n",
       "  </thead>\n",
       "  <tbody>\n",
       "    <tr>\n",
       "      <th>0</th>\n",
       "      <td>MAC000002</td>\n",
       "      <td>Std</td>\n",
       "      <td>2012-10-12 00:30:00</td>\n",
       "      <td>0.0</td>\n",
       "      <td>ACORN-A</td>\n",
       "      <td>Affluent</td>\n",
       "    </tr>\n",
       "    <tr>\n",
       "      <th>1</th>\n",
       "      <td>MAC000002</td>\n",
       "      <td>Std</td>\n",
       "      <td>2012-10-12 01:00:00</td>\n",
       "      <td>0.0</td>\n",
       "      <td>ACORN-A</td>\n",
       "      <td>Affluent</td>\n",
       "    </tr>\n",
       "    <tr>\n",
       "      <th>2</th>\n",
       "      <td>MAC000002</td>\n",
       "      <td>Std</td>\n",
       "      <td>2012-10-12 01:30:00</td>\n",
       "      <td>0.0</td>\n",
       "      <td>ACORN-A</td>\n",
       "      <td>Affluent</td>\n",
       "    </tr>\n",
       "    <tr>\n",
       "      <th>3</th>\n",
       "      <td>MAC000002</td>\n",
       "      <td>Std</td>\n",
       "      <td>2012-10-12 02:00:00</td>\n",
       "      <td>0.0</td>\n",
       "      <td>ACORN-A</td>\n",
       "      <td>Affluent</td>\n",
       "    </tr>\n",
       "    <tr>\n",
       "      <th>4</th>\n",
       "      <td>MAC000002</td>\n",
       "      <td>Std</td>\n",
       "      <td>2012-10-12 02:30:00</td>\n",
       "      <td>0.0</td>\n",
       "      <td>ACORN-A</td>\n",
       "      <td>Affluent</td>\n",
       "    </tr>\n",
       "  </tbody>\n",
       "</table>\n",
       "</div>"
      ],
      "text/plain": [
       "       LCLid stdorToU            DateTime  KWH_hh    Acorn Acorn_grouped\n",
       "0  MAC000002      Std 2012-10-12 00:30:00     0.0  ACORN-A      Affluent\n",
       "1  MAC000002      Std 2012-10-12 01:00:00     0.0  ACORN-A      Affluent\n",
       "2  MAC000002      Std 2012-10-12 01:30:00     0.0  ACORN-A      Affluent\n",
       "3  MAC000002      Std 2012-10-12 02:00:00     0.0  ACORN-A      Affluent\n",
       "4  MAC000002      Std 2012-10-12 02:30:00     0.0  ACORN-A      Affluent"
      ]
     },
     "execution_count": 7,
     "metadata": {},
     "output_type": "execute_result"
    }
   ],
   "source": [
    "data.head()"
   ]
  },
  {
   "cell_type": "code",
   "execution_count": 8,
   "metadata": {
    "scrolled": true
   },
   "outputs": [
    {
     "data": {
      "text/plain": [
       "LCLid               0\n",
       "stdorToU            0\n",
       "DateTime            0\n",
       "KWH_hh           5560\n",
       "Acorn               0\n",
       "Acorn_grouped       0\n",
       "dtype: int64"
      ]
     },
     "execution_count": 8,
     "metadata": {},
     "output_type": "execute_result"
    }
   ],
   "source": [
    "data.isna().sum(axis=0)"
   ]
  },
  {
   "cell_type": "code",
   "execution_count": null,
   "metadata": {},
   "outputs": [],
   "source": [
    "# data['KWH_hh'] = data['KWH_hh'].astype(float)\n",
    "# 'Null' as na\n",
    "# data[data['KWH_hh']=='Null']#.shape[0]\n",
    "# remove rows with 'Null'\n",
    "# data = data[data['KWH_hh'] != 'Null']\n",
    "# data['KWH_hh'] = data['KWH_hh'].astype(float)"
   ]
  },
  {
   "cell_type": "code",
   "execution_count": 8,
   "metadata": {},
   "outputs": [],
   "source": [
    "data.dropna(inplace=True)"
   ]
  },
  {
   "cell_type": "code",
   "execution_count": 9,
   "metadata": {},
   "outputs": [
    {
     "data": {
      "text/plain": [
       "MAC005565      44\n",
       "MAC001300     360\n",
       "MAC002110     478\n",
       "MAC001278     506\n",
       "MAC001957     604\n",
       "MAC003346    4159\n",
       "MAC001653    4275\n",
       "MAC003353    5066\n",
       "MAC003554    5164\n",
       "MAC003559    5812\n",
       "Name: LCLid, dtype: int64"
      ]
     },
     "execution_count": 9,
     "metadata": {},
     "output_type": "execute_result"
    }
   ],
   "source": [
    "# small number of mesures for some households\n",
    "data['LCLid'].value_counts().nsmallest(10)\n",
    "# ? remove nsmallest(5)"
   ]
  },
  {
   "cell_type": "code",
   "execution_count": 45,
   "metadata": {
    "scrolled": true
   },
   "outputs": [
    {
     "data": {
      "text/plain": [
       "LCLid\n",
       "MAC005565     0 days 21:30:00\n",
       "MAC001300     8 days 11:00:00\n",
       "MAC002110     9 days 22:00:00\n",
       "MAC001278    10 days 12:00:00\n",
       "MAC001957    14 days 13:00:00\n",
       "MAC003346    86 days 13:30:00\n",
       "MAC003353   105 days 13:00:00\n",
       "MAC003554   107 days 11:30:00\n",
       "MAC003559   120 days 23:30:00\n",
       "MAC003935   123 days 23:00:00\n",
       "Name: DateTime, dtype: timedelta64[ns]"
      ]
     },
     "execution_count": 45,
     "metadata": {},
     "output_type": "execute_result"
    }
   ],
   "source": [
    "data.groupby(['LCLid'])['DateTime'].apply(lambda x: x.max() - x.min()).nsmallest(10)"
   ]
  },
  {
   "cell_type": "code",
   "execution_count": 47,
   "metadata": {},
   "outputs": [
    {
     "data": {
      "text/plain": [
       "LCLid\n",
       "MAC000002    1\n",
       "Name: stdorToU, dtype: int64"
      ]
     },
     "execution_count": 47,
     "metadata": {},
     "output_type": "execute_result"
    }
   ],
   "source": [
    "# check if some hosehold were in both types of pricing\n",
    "data.groupby(['LCLid'])['stdorToU'].nunique().nlargest(1)"
   ]
  },
  {
   "cell_type": "code",
   "execution_count": 46,
   "metadata": {},
   "outputs": [
    {
     "data": {
      "text/plain": [
       "stdorToU\n",
       "Std    4438\n",
       "ToU    1123\n",
       "Name: LCLid, dtype: int64"
      ]
     },
     "execution_count": 46,
     "metadata": {},
     "output_type": "execute_result"
    }
   ],
   "source": [
    "# number of households per pricing type\n",
    "data.groupby(['stdorToU'])['LCLid'].nunique()"
   ]
  },
  {
   "cell_type": "code",
   "execution_count": 55,
   "metadata": {},
   "outputs": [
    {
     "data": {
      "text/plain": [
       "<matplotlib.axes._subplots.AxesSubplot at 0x267abc52da0>"
      ]
     },
     "execution_count": 55,
     "metadata": {},
     "output_type": "execute_result"
    },
    {
     "data": {
      "image/png": "[encoded data removed]",
      "text/plain": [
       "<Figure size 432x288 with 1 Axes>"
      ]
     },
     "metadata": {
      "needs_background": "light"
     },
     "output_type": "display_data"
    }
   ],
   "source": [
    "data['KWH_hh'].plot.hist(bins=30)"
   ]
  },
  {
   "cell_type": "markdown",
   "metadata": {},
   "source": [
    "## Acorn User Guide\n",
    "There is more ACORN types then in user guide - https://acorn.caci.co.uk/downloads/Acorn-User-guide.pdf"
   ]
  },
  {
   "cell_type": "code",
   "execution_count": 47,
   "metadata": {
    "scrolled": true
   },
   "outputs": [
    {
     "data": {
      "text/plain": [
       "array(['ACORN-A', 'ACORN-P', 'ACORN-E', 'ACORN-Q', 'ACORN-H', 'ACORN-L',\n",
       "       'ACORN-N', 'ACORN-K', 'ACORN-J', 'ACORN-U', 'ACORN-D', 'ACORN-F',\n",
       "       'ACORN-G', 'ACORN-C', 'ACORN-M', 'ACORN-O', 'ACORN-I', 'ACORN-B',\n",
       "       'ACORN-'], dtype=object)"
      ]
     },
     "execution_count": 47,
     "metadata": {},
     "output_type": "execute_result"
    }
   ],
   "source": [
    "data.Acorn.unique()\n",
    "# ACORN- == UNKNOWN ACORN == ACORN-U ?\n",
    "# ACORN-U does not exist in user guide"
   ]
  },
  {
   "cell_type": "code",
   "execution_count": 58,
   "metadata": {},
   "outputs": [
    {
     "data": {
      "text/plain": [
       "array(['Affluent', 'Adversity', 'Comfortable', 'ACORN-U', 'ACORN-'],\n",
       "      dtype=object)"
      ]
     },
     "execution_count": 58,
     "metadata": {},
     "output_type": "execute_result"
    }
   ],
   "source": [
    "data.Acorn_grouped.unique()"
   ]
  },
  {
   "cell_type": "code",
   "execution_count": 67,
   "metadata": {},
   "outputs": [
    {
     "name": "stdout",
     "output_type": "stream",
     "text": [
      "['MAC001074' 'MAC005492'] \n",
      " ['MAC001074' 'MAC005492'] \n",
      " ['MAC000023' 'MAC000099' 'MAC001256' 'MAC001348' 'MAC001600' 'MAC001795'\n",
      " 'MAC001997' 'MAC002056' 'MAC002087' 'MAC002152' 'MAC002485' 'MAC002647'\n",
      " 'MAC002720' 'MAC003078' 'MAC003163' 'MAC003218' 'MAC003317' 'MAC003328'\n",
      " 'MAC003407' 'MAC003619' 'MAC003780' 'MAC003860' 'MAC003884' 'MAC003992'\n",
      " 'MAC004010' 'MAC004067' 'MAC004069' 'MAC004142' 'MAC004215' 'MAC004515'\n",
      " 'MAC004570' 'MAC004587' 'MAC004649' 'MAC004672' 'MAC004788' 'MAC004828'\n",
      " 'MAC005036' 'MAC005363' 'MAC005424' 'MAC001147' 'MAC001704' 'MAC001706'\n",
      " 'MAC001851' 'MAC002774' 'MAC003652' 'MAC003916' 'MAC003977' 'MAC004323'\n",
      " 'MAC004467'] \n",
      " ['MAC000023' 'MAC000099' 'MAC001256' 'MAC001348' 'MAC001600' 'MAC001795'\n",
      " 'MAC001997' 'MAC002056' 'MAC002087' 'MAC002152' 'MAC002485' 'MAC002647'\n",
      " 'MAC002720' 'MAC003078' 'MAC003163' 'MAC003218' 'MAC003317' 'MAC003328'\n",
      " 'MAC003407' 'MAC003619' 'MAC003780' 'MAC003860' 'MAC003884' 'MAC003992'\n",
      " 'MAC004010' 'MAC004067' 'MAC004069' 'MAC004142' 'MAC004215' 'MAC004515'\n",
      " 'MAC004570' 'MAC004587' 'MAC004649' 'MAC004672' 'MAC004788' 'MAC004828'\n",
      " 'MAC005036' 'MAC005363' 'MAC005424' 'MAC001147' 'MAC001704' 'MAC001706'\n",
      " 'MAC001851' 'MAC002774' 'MAC003652' 'MAC003916' 'MAC003977' 'MAC004323'\n",
      " 'MAC004467']\n"
     ]
    }
   ],
   "source": [
    "print(data.loc[data.Acorn=='ACORN-'].LCLid.unique(), '\\n',\n",
    "      data.loc[data.Acorn_grouped=='ACORN-'].LCLid.unique(), '\\n',\n",
    "      data.loc[data.Acorn=='ACORN-U'].LCLid.unique(), '\\n',\n",
    "      data.loc[data.Acorn_grouped=='ACORN-U'].LCLid.unique())\n",
    "# ACORN- & ACORN-U for the same households"
   ]
  },
  {
   "cell_type": "code",
   "execution_count": 49,
   "metadata": {},
   "outputs": [
    {
     "name": "stdout",
     "output_type": "stream",
     "text": [
      "5561\n",
      "5561\n"
     ]
    }
   ],
   "source": [
    "# one household can have only one of stdorToU, ACRON and ACORN group\n",
    "print(data.LCLid.nunique())\n",
    "print(data[['LCLid', 'stdorToU', 'Acorn', 'Acorn_grouped']].drop_duplicates().shape[0])"
   ]
  },
  {
   "cell_type": "code",
   "execution_count": 18,
   "metadata": {},
   "outputs": [],
   "source": [
    "# separate pricing type and ACRON types to another file and remove exported columns\n",
    "data[['LCLid', 'stdorToU', 'Acorn', 'Acorn_grouped']].drop_duplicates().to_csv('data/pricing_and_acron_types.csv', index=False)\n",
    "data.drop(['stdorToU', 'Acorn', 'Acorn_grouped'], axis=1, inplace=True)"
   ]
  },
  {
   "cell_type": "code",
   "execution_count": 7,
   "metadata": {},
   "outputs": [],
   "source": [
    "data.drop(['stdorToU', 'Acorn', 'Acorn_grouped'], axis=1, inplace=True)"
   ]
  },
  {
   "cell_type": "code",
   "execution_count": 12,
   "metadata": {},
   "outputs": [
    {
     "data": {
      "text/html": [
       "<div>\n",
       "<style scoped>\n",
       "    .dataframe tbody tr th:only-of-type {\n",
       "        vertical-align: middle;\n",
       "    }\n",
       "\n",
       "    .dataframe tbody tr th {\n",
       "        vertical-align: top;\n",
       "    }\n",
       "\n",
       "    .dataframe thead th {\n",
       "        text-align: right;\n",
       "    }\n",
       "</style>\n",
       "<table border=\"1\" class=\"dataframe\">\n",
       "  <thead>\n",
       "    <tr style=\"text-align: right;\">\n",
       "      <th></th>\n",
       "      <th>LCLid</th>\n",
       "      <th>DateTime</th>\n",
       "      <th>KWH_hh</th>\n",
       "    </tr>\n",
       "  </thead>\n",
       "  <tbody>\n",
       "    <tr>\n",
       "      <th>0</th>\n",
       "      <td>MAC000002</td>\n",
       "      <td>2012-10-12 00:30:00</td>\n",
       "      <td>0.000</td>\n",
       "    </tr>\n",
       "    <tr>\n",
       "      <th>1</th>\n",
       "      <td>MAC000002</td>\n",
       "      <td>2012-10-12 01:00:00</td>\n",
       "      <td>0.000</td>\n",
       "    </tr>\n",
       "    <tr>\n",
       "      <th>2</th>\n",
       "      <td>MAC000002</td>\n",
       "      <td>2012-10-12 01:30:00</td>\n",
       "      <td>0.000</td>\n",
       "    </tr>\n",
       "    <tr>\n",
       "      <th>3</th>\n",
       "      <td>MAC000002</td>\n",
       "      <td>2012-10-12 02:00:00</td>\n",
       "      <td>0.000</td>\n",
       "    </tr>\n",
       "    <tr>\n",
       "      <th>4</th>\n",
       "      <td>MAC000002</td>\n",
       "      <td>2012-10-12 02:30:00</td>\n",
       "      <td>0.000</td>\n",
       "    </tr>\n",
       "    <tr>\n",
       "      <th>5</th>\n",
       "      <td>MAC000002</td>\n",
       "      <td>2012-10-12 03:00:00</td>\n",
       "      <td>0.000</td>\n",
       "    </tr>\n",
       "    <tr>\n",
       "      <th>6</th>\n",
       "      <td>MAC000002</td>\n",
       "      <td>2012-10-12 03:30:00</td>\n",
       "      <td>0.000</td>\n",
       "    </tr>\n",
       "    <tr>\n",
       "      <th>7</th>\n",
       "      <td>MAC000002</td>\n",
       "      <td>2012-10-12 04:00:00</td>\n",
       "      <td>0.000</td>\n",
       "    </tr>\n",
       "    <tr>\n",
       "      <th>8</th>\n",
       "      <td>MAC000002</td>\n",
       "      <td>2012-10-12 04:30:00</td>\n",
       "      <td>0.000</td>\n",
       "    </tr>\n",
       "    <tr>\n",
       "      <th>9</th>\n",
       "      <td>MAC000002</td>\n",
       "      <td>2012-10-12 05:00:00</td>\n",
       "      <td>0.000</td>\n",
       "    </tr>\n",
       "    <tr>\n",
       "      <th>10</th>\n",
       "      <td>MAC000002</td>\n",
       "      <td>2012-10-12 05:30:00</td>\n",
       "      <td>0.000</td>\n",
       "    </tr>\n",
       "    <tr>\n",
       "      <th>11</th>\n",
       "      <td>MAC000002</td>\n",
       "      <td>2012-10-12 06:00:00</td>\n",
       "      <td>0.000</td>\n",
       "    </tr>\n",
       "    <tr>\n",
       "      <th>12</th>\n",
       "      <td>MAC000002</td>\n",
       "      <td>2012-10-12 06:30:00</td>\n",
       "      <td>0.000</td>\n",
       "    </tr>\n",
       "    <tr>\n",
       "      <th>13</th>\n",
       "      <td>MAC000002</td>\n",
       "      <td>2012-10-12 07:00:00</td>\n",
       "      <td>0.000</td>\n",
       "    </tr>\n",
       "    <tr>\n",
       "      <th>14</th>\n",
       "      <td>MAC000002</td>\n",
       "      <td>2012-10-12 07:30:00</td>\n",
       "      <td>0.000</td>\n",
       "    </tr>\n",
       "    <tr>\n",
       "      <th>15</th>\n",
       "      <td>MAC000002</td>\n",
       "      <td>2012-10-12 08:00:00</td>\n",
       "      <td>0.000</td>\n",
       "    </tr>\n",
       "    <tr>\n",
       "      <th>16</th>\n",
       "      <td>MAC000002</td>\n",
       "      <td>2012-10-12 08:30:00</td>\n",
       "      <td>0.000</td>\n",
       "    </tr>\n",
       "    <tr>\n",
       "      <th>17</th>\n",
       "      <td>MAC000002</td>\n",
       "      <td>2012-10-12 09:00:00</td>\n",
       "      <td>0.000</td>\n",
       "    </tr>\n",
       "    <tr>\n",
       "      <th>18</th>\n",
       "      <td>MAC000002</td>\n",
       "      <td>2012-10-12 09:30:00</td>\n",
       "      <td>0.000</td>\n",
       "    </tr>\n",
       "    <tr>\n",
       "      <th>19</th>\n",
       "      <td>MAC000002</td>\n",
       "      <td>2012-10-12 10:00:00</td>\n",
       "      <td>0.000</td>\n",
       "    </tr>\n",
       "    <tr>\n",
       "      <th>20</th>\n",
       "      <td>MAC000002</td>\n",
       "      <td>2012-10-12 10:30:00</td>\n",
       "      <td>0.000</td>\n",
       "    </tr>\n",
       "    <tr>\n",
       "      <th>21</th>\n",
       "      <td>MAC000002</td>\n",
       "      <td>2012-10-12 11:30:00</td>\n",
       "      <td>0.143</td>\n",
       "    </tr>\n",
       "    <tr>\n",
       "      <th>22</th>\n",
       "      <td>MAC000002</td>\n",
       "      <td>2012-10-12 12:00:00</td>\n",
       "      <td>0.663</td>\n",
       "    </tr>\n",
       "    <tr>\n",
       "      <th>23</th>\n",
       "      <td>MAC000002</td>\n",
       "      <td>2012-10-12 12:30:00</td>\n",
       "      <td>0.256</td>\n",
       "    </tr>\n",
       "    <tr>\n",
       "      <th>24</th>\n",
       "      <td>MAC000002</td>\n",
       "      <td>2012-10-12 13:00:00</td>\n",
       "      <td>0.155</td>\n",
       "    </tr>\n",
       "    <tr>\n",
       "      <th>25</th>\n",
       "      <td>MAC000002</td>\n",
       "      <td>2012-10-12 13:30:00</td>\n",
       "      <td>0.199</td>\n",
       "    </tr>\n",
       "    <tr>\n",
       "      <th>26</th>\n",
       "      <td>MAC000002</td>\n",
       "      <td>2012-10-12 14:00:00</td>\n",
       "      <td>0.125</td>\n",
       "    </tr>\n",
       "    <tr>\n",
       "      <th>27</th>\n",
       "      <td>MAC000002</td>\n",
       "      <td>2012-10-12 14:30:00</td>\n",
       "      <td>0.165</td>\n",
       "    </tr>\n",
       "    <tr>\n",
       "      <th>28</th>\n",
       "      <td>MAC000002</td>\n",
       "      <td>2012-10-12 15:00:00</td>\n",
       "      <td>0.140</td>\n",
       "    </tr>\n",
       "    <tr>\n",
       "      <th>29</th>\n",
       "      <td>MAC000002</td>\n",
       "      <td>2012-10-12 15:30:00</td>\n",
       "      <td>0.148</td>\n",
       "    </tr>\n",
       "    <tr>\n",
       "      <th>30</th>\n",
       "      <td>MAC000002</td>\n",
       "      <td>2012-10-12 16:00:00</td>\n",
       "      <td>0.154</td>\n",
       "    </tr>\n",
       "    <tr>\n",
       "      <th>31</th>\n",
       "      <td>MAC000002</td>\n",
       "      <td>2012-10-12 16:30:00</td>\n",
       "      <td>0.137</td>\n",
       "    </tr>\n",
       "    <tr>\n",
       "      <th>32</th>\n",
       "      <td>MAC000002</td>\n",
       "      <td>2012-10-12 17:00:00</td>\n",
       "      <td>0.493</td>\n",
       "    </tr>\n",
       "    <tr>\n",
       "      <th>33</th>\n",
       "      <td>MAC000002</td>\n",
       "      <td>2012-10-12 17:30:00</td>\n",
       "      <td>0.354</td>\n",
       "    </tr>\n",
       "    <tr>\n",
       "      <th>34</th>\n",
       "      <td>MAC000002</td>\n",
       "      <td>2012-10-12 18:00:00</td>\n",
       "      <td>0.228</td>\n",
       "    </tr>\n",
       "    <tr>\n",
       "      <th>35</th>\n",
       "      <td>MAC000002</td>\n",
       "      <td>2012-10-12 18:30:00</td>\n",
       "      <td>0.195</td>\n",
       "    </tr>\n",
       "    <tr>\n",
       "      <th>36</th>\n",
       "      <td>MAC000002</td>\n",
       "      <td>2012-10-12 19:00:00</td>\n",
       "      <td>0.527</td>\n",
       "    </tr>\n",
       "    <tr>\n",
       "      <th>37</th>\n",
       "      <td>MAC000002</td>\n",
       "      <td>2012-10-12 19:30:00</td>\n",
       "      <td>0.886</td>\n",
       "    </tr>\n",
       "    <tr>\n",
       "      <th>38</th>\n",
       "      <td>MAC000002</td>\n",
       "      <td>2012-10-12 20:00:00</td>\n",
       "      <td>0.198</td>\n",
       "    </tr>\n",
       "    <tr>\n",
       "      <th>39</th>\n",
       "      <td>MAC000002</td>\n",
       "      <td>2012-10-12 20:30:00</td>\n",
       "      <td>0.243</td>\n",
       "    </tr>\n",
       "    <tr>\n",
       "      <th>40</th>\n",
       "      <td>MAC000002</td>\n",
       "      <td>2012-10-12 21:00:00</td>\n",
       "      <td>0.193</td>\n",
       "    </tr>\n",
       "    <tr>\n",
       "      <th>41</th>\n",
       "      <td>MAC000002</td>\n",
       "      <td>2012-10-12 21:30:00</td>\n",
       "      <td>0.342</td>\n",
       "    </tr>\n",
       "    <tr>\n",
       "      <th>42</th>\n",
       "      <td>MAC000002</td>\n",
       "      <td>2012-10-12 22:00:00</td>\n",
       "      <td>0.270</td>\n",
       "    </tr>\n",
       "    <tr>\n",
       "      <th>43</th>\n",
       "      <td>MAC000002</td>\n",
       "      <td>2012-10-12 22:30:00</td>\n",
       "      <td>0.325</td>\n",
       "    </tr>\n",
       "    <tr>\n",
       "      <th>44</th>\n",
       "      <td>MAC000002</td>\n",
       "      <td>2012-10-12 23:00:00</td>\n",
       "      <td>0.269</td>\n",
       "    </tr>\n",
       "    <tr>\n",
       "      <th>45</th>\n",
       "      <td>MAC000002</td>\n",
       "      <td>2012-10-12 23:30:00</td>\n",
       "      <td>0.290</td>\n",
       "    </tr>\n",
       "    <tr>\n",
       "      <th>46</th>\n",
       "      <td>MAC000002</td>\n",
       "      <td>2012-10-13 00:00:00</td>\n",
       "      <td>0.263</td>\n",
       "    </tr>\n",
       "    <tr>\n",
       "      <th>47</th>\n",
       "      <td>MAC000002</td>\n",
       "      <td>2012-10-13 00:30:00</td>\n",
       "      <td>0.269</td>\n",
       "    </tr>\n",
       "  </tbody>\n",
       "</table>\n",
       "</div>"
      ],
      "text/plain": [
       "        LCLid            DateTime  KWH_hh\n",
       "0   MAC000002 2012-10-12 00:30:00   0.000\n",
       "1   MAC000002 2012-10-12 01:00:00   0.000\n",
       "2   MAC000002 2012-10-12 01:30:00   0.000\n",
       "3   MAC000002 2012-10-12 02:00:00   0.000\n",
       "4   MAC000002 2012-10-12 02:30:00   0.000\n",
       "5   MAC000002 2012-10-12 03:00:00   0.000\n",
       "6   MAC000002 2012-10-12 03:30:00   0.000\n",
       "7   MAC000002 2012-10-12 04:00:00   0.000\n",
       "8   MAC000002 2012-10-12 04:30:00   0.000\n",
       "9   MAC000002 2012-10-12 05:00:00   0.000\n",
       "10  MAC000002 2012-10-12 05:30:00   0.000\n",
       "11  MAC000002 2012-10-12 06:00:00   0.000\n",
       "12  MAC000002 2012-10-12 06:30:00   0.000\n",
       "13  MAC000002 2012-10-12 07:00:00   0.000\n",
       "14  MAC000002 2012-10-12 07:30:00   0.000\n",
       "15  MAC000002 2012-10-12 08:00:00   0.000\n",
       "16  MAC000002 2012-10-12 08:30:00   0.000\n",
       "17  MAC000002 2012-10-12 09:00:00   0.000\n",
       "18  MAC000002 2012-10-12 09:30:00   0.000\n",
       "19  MAC000002 2012-10-12 10:00:00   0.000\n",
       "20  MAC000002 2012-10-12 10:30:00   0.000\n",
       "21  MAC000002 2012-10-12 11:30:00   0.143\n",
       "22  MAC000002 2012-10-12 12:00:00   0.663\n",
       "23  MAC000002 2012-10-12 12:30:00   0.256\n",
       "24  MAC000002 2012-10-12 13:00:00   0.155\n",
       "25  MAC000002 2012-10-12 13:30:00   0.199\n",
       "26  MAC000002 2012-10-12 14:00:00   0.125\n",
       "27  MAC000002 2012-10-12 14:30:00   0.165\n",
       "28  MAC000002 2012-10-12 15:00:00   0.140\n",
       "29  MAC000002 2012-10-12 15:30:00   0.148\n",
       "30  MAC000002 2012-10-12 16:00:00   0.154\n",
       "31  MAC000002 2012-10-12 16:30:00   0.137\n",
       "32  MAC000002 2012-10-12 17:00:00   0.493\n",
       "33  MAC000002 2012-10-12 17:30:00   0.354\n",
       "34  MAC000002 2012-10-12 18:00:00   0.228\n",
       "35  MAC000002 2012-10-12 18:30:00   0.195\n",
       "36  MAC000002 2012-10-12 19:00:00   0.527\n",
       "37  MAC000002 2012-10-12 19:30:00   0.886\n",
       "38  MAC000002 2012-10-12 20:00:00   0.198\n",
       "39  MAC000002 2012-10-12 20:30:00   0.243\n",
       "40  MAC000002 2012-10-12 21:00:00   0.193\n",
       "41  MAC000002 2012-10-12 21:30:00   0.342\n",
       "42  MAC000002 2012-10-12 22:00:00   0.270\n",
       "43  MAC000002 2012-10-12 22:30:00   0.325\n",
       "44  MAC000002 2012-10-12 23:00:00   0.269\n",
       "45  MAC000002 2012-10-12 23:30:00   0.290\n",
       "46  MAC000002 2012-10-13 00:00:00   0.263\n",
       "47  MAC000002 2012-10-13 00:30:00   0.269"
      ]
     },
     "execution_count": 12,
     "metadata": {},
     "output_type": "execute_result"
    }
   ],
   "source": [
    "data.head(48)"
   ]
  },
  {
   "cell_type": "code",
   "execution_count": 24,
   "metadata": {},
   "outputs": [],
   "source": [
    "data.sort_values(by=['LCLid', 'DateTime'], inplace=True)\n",
    "# already looks sorted"
   ]
  },
  {
   "cell_type": "code",
   "execution_count": 1,
   "metadata": {},
   "outputs": [],
   "source": [
    "#data.to_csv('data/consumption_per_datetime.csv', index=False)\n",
    "#import pandas as pd\n",
    "#dtypes = {'LCLid': 'str', 'DateTime': 'str', 'KWH_hh': 'float'}\n",
    "#parse_dates = ['Date']\n",
    "#consumption_per_datetime = pd.read_csv('data/consumption_per_datetime.csv', dtype=dtypes, parse_dates=parse_dates)"
   ]
  },
  {
   "cell_type": "code",
   "execution_count": 8,
   "metadata": {},
   "outputs": [],
   "source": [
    "import pickle as pkl\n",
    "with open('data/consumption_per_datetime.pickle', 'wb') as handle:\n",
    "    pkl.dump(data, handle)"
   ]
  },
  {
   "cell_type": "code",
   "execution_count": 1,
   "metadata": {},
   "outputs": [],
   "source": [
    "import pandas as pd\n",
    "import pickle as pkl\n",
    "with open('data/consumption_per_datetime.pickle', 'rb') as handle:\n",
    "    data = pkl.load(handle)"
   ]
  },
  {
   "cell_type": "markdown",
   "metadata": {},
   "source": [
    "## Tag rows by part of the day: night 00:00-05:30, morning 06:00-11:30, midday 12:00-17:30, evening 18:00-23:30\n",
    "\n",
    "Average Daily Consumption in domestic - Chapter 3 Domestic Data Tables, sheet 3.11 - https://webarchive.nationalarchives.gov.uk/20150503104649/https://www.gov.uk/government/statistics/energy-consumption-in-the-uk"
   ]
  },
  {
   "cell_type": "code",
   "execution_count": 3,
   "metadata": {},
   "outputs": [],
   "source": [
    "data.set_index('DateTime', inplace=True)"
   ]
  },
  {
   "cell_type": "code",
   "execution_count": 18,
   "metadata": {},
   "outputs": [],
   "source": [
    "# ubaciti petlju\n",
    "overall_agg = \\\n",
    "    data.groupby(['LCLid'])['KWH_hh'] \\\n",
    "    .agg(['min', 'max', 'median', 'mean', 'std', 'var', 'sum', 'count', lambda x: (x.index.max() - x.index.min()).days]) \\\n",
    "    .rename(columns={'min':'overall_min', 'max':'overall_max', 'median':'overall_med', 'mean':'overall_min', 'std':'overall_std', 'var':'overall_var', 'sum':'overall_sum', '<lambda>':'duration_in_days'})\n",
    "\n",
    "night = \\\n",
    "    data.between_time('00:00:00', '05:30:00') \\\n",
    "    .groupby(['LCLid'])['KWH_hh'] \\\n",
    "    .agg(['min', 'max', 'median', 'mean', 'std', 'var', 'sum']) \\\n",
    "    .rename(columns={'min':'night_min', 'max':'night_max', 'median':'night_med', 'mean':'night_min', 'std':'night_std', 'var':'night_var', 'sum':'night_sum'})\n",
    "\n",
    "morning_agg = \\\n",
    "    data.between_time('06:00:00', '11:30:00') \\\n",
    "    .groupby(['LCLid'])['KWH_hh'] \\\n",
    "    .agg(['min', 'max', 'median', 'mean', 'std', 'var', 'sum']) \\\n",
    "    .rename(columns={'min':'morning_min', 'max':'morning_max', 'median':'morning_med', 'mean':'morning_min', 'std':'morning_std', 'var':'morning_var', 'sum':'morning_sum'})\n",
    "\n",
    "midday_agg = \\\n",
    "    data.between_time('12:00:00', '17:30:00') \\\n",
    "    .groupby(['LCLid'])['KWH_hh'] \\\n",
    "    .agg(['min', 'max', 'median', 'mean', 'std', 'var', 'sum']) \\\n",
    "    .rename(columns={'min':'midday_min', 'max':'midday_max', 'median':'midday_med', 'mean':'midday_min', 'std':'midday_std', 'var':'midday_var', 'sum':'midday_sum'})\n",
    "\n",
    "evening_agg = \\\n",
    "    data.between_time('18:00:00', '23:30:00') \\\n",
    "    .groupby(['LCLid'])['KWH_hh'] \\\n",
    "    .agg(['min', 'max', 'median', 'mean', 'std', 'var', 'sum']) \\\n",
    "    .rename(columns={'min':'evening_min', 'max':'evening_max', 'median':'evening_med', 'mean':'evening_min', 'std':'evening_std', 'var':'evening_var', 'sum':'evening_sum'})\n"
   ]
  },
  {
   "cell_type": "markdown",
   "metadata": {},
   "source": [
    "## Aggregate per month and week for each household."
   ]
  },
  {
   "cell_type": "code",
   "execution_count": 23,
   "metadata": {
    "scrolled": false
   },
   "outputs": [],
   "source": [
    "data.reset_index(inplace=True)"
   ]
  },
  {
   "cell_type": "code",
   "execution_count": 24,
   "metadata": {},
   "outputs": [],
   "source": [
    "data['week'] = data.DateTime.dt.week\n",
    "data['month'] = data.DateTime.dt.month\n",
    "data['year'] = data.DateTime.dt.year"
   ]
  },
  {
   "cell_type": "code",
   "execution_count": 94,
   "metadata": {},
   "outputs": [],
   "source": [
    "by_month = data.groupby(['LCLid', 'year', 'month'])['KWH_hh'] \\\n",
    ".agg(['min', 'max', 'median', 'mean', 'std', 'var', 'sum']) \\\n",
    ".reset_index() \\\n",
    ".melt(id_vars=['LCLid', 'year', 'month'], value_vars=['min', 'max', 'median', 'mean', 'std', 'var', 'sum'])\n",
    "\n",
    "by_month['month_year'] = 'm' + by_month['month'].map(str) + '_' + by_month['year'].map(str) + '_' + by_month['variable']\n",
    "by_month.drop(['year', 'month', 'variable'], axis=1, inplace=True)\n",
    "\n",
    "by_month = by_month.pivot_table(index=['LCLid'], columns=['month_year'], values=['value'])\n",
    "by_month.columns = by_month.columns.droplevel()"
   ]
  },
  {
   "cell_type": "code",
   "execution_count": 102,
   "metadata": {
    "scrolled": true
   },
   "outputs": [],
   "source": [
    "by_week = data.groupby(['LCLid', 'year', 'week'])['KWH_hh'] \\\n",
    ".agg(['min', 'max', 'median', 'mean', 'std', 'var', 'sum']) \\\n",
    ".reset_index() \\\n",
    ".melt(id_vars=['LCLid', 'year', 'week'], value_vars=['min', 'max', 'median', 'mean', 'std', 'var', 'sum'])\n",
    "\n",
    "by_week['week_year'] = 'w' + by_week['week'].map(str) + '_' + by_week['year'].map(str) + '_' + by_week['variable']\n",
    "by_week.drop(['year', 'week', 'variable'], axis=1, inplace=True)\n",
    "\n",
    "by_week = by_week.pivot_table(index=['LCLid'], columns=['week_year'], values=['value'])\n",
    "by_week.columns = by_week.columns.droplevel()"
   ]
  },
  {
   "cell_type": "code",
   "execution_count": 99,
   "metadata": {},
   "outputs": [],
   "source": [
    "data_agg = \\\n",
    "    overall_agg \\\n",
    "    .join(night_agg, on='LCLid', how='left') \\\n",
    "    .join(morning_agg, on='LCLid', how='left') \\\n",
    "    .join(midday_agg, on='LCLid', how='left') \\\n",
    "    .join(evening_agg, on='LCLid', how='left') \\\n",
    "    .join(by_month, on='LCLid', how='left') \\\n",
    "    .join(by_week, on='LCLid', how='left')"
   ]
  },
  {
   "cell_type": "code",
   "execution_count": 101,
   "metadata": {},
   "outputs": [],
   "source": [
    "with open('data/data_agg.pickle', 'wb') as handle:\n",
    "    pkl.dump(data_agg, handle)"
   ]
  },
  {
   "cell_type": "code",
   "execution_count": 103,
   "metadata": {},
   "outputs": [],
   "source": [
    "data_agg.to_csv('data/data_agg.csv', index=False)"
   ]
  },
  {
   "cell_type": "code",
   "execution_count": 105,
   "metadata": {},
   "outputs": [],
   "source": [
    "data.drop(['week', 'month', 'year'], axis=1, inplace=True)"
   ]
  },
  {
   "cell_type": "markdown",
   "metadata": {},
   "source": [
    "## Aggregate per day for each household."
   ]
  },
  {
   "cell_type": "code",
   "execution_count": null,
   "metadata": {},
   "outputs": [],
   "source": [
    "data['Date'] = data.DateTime.dt.date\n",
    "data.drop(['DateTime'], axis=1, inplace=True)"
   ]
  },
  {
   "cell_type": "code",
   "execution_count": 114,
   "metadata": {},
   "outputs": [],
   "source": [
    "data_agg_daily = \\\n",
    "    data.groupby(['LCLid', 'Date'])['KWH_hh'] \\\n",
    "    .agg(['min', 'max', 'median', 'mean', 'std', 'var', 'sum']) \\\n",
    "    .reset_index() \\\n",
    "    .melt(id_vars=['LCLid', 'Date'], value_vars=['min', 'max', 'median', 'mean', 'std', 'var', 'sum'])"
   ]
  },
  {
   "cell_type": "code",
   "execution_count": 116,
   "metadata": {},
   "outputs": [],
   "source": [
    "data_agg_daily['date_agg'] = data_agg_daily['Date'].map(str) + '_' + data_agg_daily['variable']\n",
    "\n",
    "data_agg_daily.drop(['Date', 'variable'], axis=1, inplace=True)\n",
    "\n",
    "data_agg_daily = data_agg_daily.pivot_table(index=['LCLid'], columns=['date_agg'], values=['value'])\n",
    "\n",
    "data_agg_daily.columns = data_agg_daily.columns.droplevel()"
   ]
  },
  {
   "cell_type": "code",
   "execution_count": 124,
   "metadata": {},
   "outputs": [],
   "source": [
    "with open('data/data_agg_daily.pickle', 'wb') as handle:\n",
    "    pkl.dump(data_agg_daily, handle)"
   ]
  },
  {
   "cell_type": "code",
   "execution_count": 125,
   "metadata": {},
   "outputs": [],
   "source": [
    "data_agg_daily.to_csv('data/data_agg_daily.csv', index=False)"
   ]
  },
  {
   "cell_type": "code",
   "execution_count": null,
   "metadata": {},
   "outputs": [],
   "source": []
  }
 ],
 "metadata": {
  "kernelspec": {
   "display_name": "Python 3",
   "language": "python",
   "name": "python3"
  },
  "language_info": {
   "codemirror_mode": {
    "name": "ipython",
    "version": 3
   },
   "file_extension": ".py",
   "mimetype": "text/x-python",
   "name": "python",
   "nbconvert_exporter": "python",
   "pygments_lexer": "ipython3",
   "version": "3.7.0"
  }
 },
 "nbformat": 4,
 "nbformat_minor": 2
}
